{
 "cells": [
  {
   "cell_type": "code",
   "execution_count": 1,
   "id": "f7cf530e-fc3d-44ac-b545-9bc5823971e4",
   "metadata": {},
   "outputs": [
    {
     "name": "stdout",
     "output_type": "stream",
     "text": [
      "89.76923076923077\n"
     ]
    }
   ],
   "source": [
    "import numpy as np\n",
    "speed = [99,86,87,88,111,86,103,87,94,78,77,85,86]\n",
    "x = np.mean(speed) # average value\n",
    "print(x)"
   ]
  },
  {
   "cell_type": "code",
   "execution_count": 2,
   "id": "9a2ccfe8-1767-4650-b38a-ed65c8657052",
   "metadata": {},
   "outputs": [
    {
     "data": {
      "text/plain": [
       "87.0"
      ]
     },
     "execution_count": 2,
     "metadata": {},
     "output_type": "execute_result"
    }
   ],
   "source": [
    "np.median(speed) \n",
    "# mid point value"
   ]
  },
  {
   "cell_type": "code",
   "execution_count": 6,
   "id": "cbe85b45-3fdc-43da-a3df-dae9739d6af2",
   "metadata": {},
   "outputs": [
    {
     "name": "stdout",
     "output_type": "stream",
     "text": [
      "ModeResult(mode=86, count=3)\n"
     ]
    }
   ],
   "source": [
    "from scipy import stats\n",
    "speed = [99,86,87,88,111,86,103,87,94,78,77,85,86]\n",
    "x = stats.mode(speed)\n",
    "print(x)\n",
    "# most common value"
   ]
  },
  {
   "cell_type": "code",
   "execution_count": 8,
   "id": "c78e55ef-2706-424f-8d71-d947d690a39b",
   "metadata": {},
   "outputs": [
    {
     "name": "stdout",
     "output_type": "stream",
     "text": [
      "0.9035079029052513\n",
      "37.84501153334721\n"
     ]
    }
   ],
   "source": [
    "# standard deviation\n",
    "#Standard deviation is a number that describes how spread out the values are.\n",
    "#A low standard deviation means that most of the numbers are close to the mean (average) value.\n",
    "#A high standard deviation means that the values are spread out over a wider range.\n",
    "\n",
    "speed = [86,87,88,86,87,85,86]\n",
    "x = np.std(speed)\n",
    "print(x)\n",
    "speed = [32,111,138,28,59,77,97]\n",
    "x = np.std(speed)\n",
    "print(x)"
   ]
  },
  {
   "cell_type": "code",
   "execution_count": 11,
   "id": "ac05fb15-c058-487a-80c4-fff1cd513564",
   "metadata": {},
   "outputs": [
    {
     "name": "stdout",
     "output_type": "stream",
     "text": [
      "43.0\n"
     ]
    }
   ],
   "source": [
    "# Percentile - What is the 75. percentile? The answer is 43, meaning that 75% of the people are 43 or younger.\n",
    "ages = [5,31,43,48,50,41,7,11,15,39,80,82,32,2,8,6,25,36,27,61,31]\n",
    "x = np.percentile(ages, 75)\n",
    "print(x)"
   ]
  },
  {
   "cell_type": "code",
   "execution_count": null,
   "id": "bf459ba2-5012-45a4-9aaa-c628e32827b7",
   "metadata": {},
   "outputs": [],
   "source": []
  }
 ],
 "metadata": {
  "kernelspec": {
   "display_name": "Python 3 (ipykernel)",
   "language": "python",
   "name": "python3"
  },
  "language_info": {
   "codemirror_mode": {
    "name": "ipython",
    "version": 3
   },
   "file_extension": ".py",
   "mimetype": "text/x-python",
   "name": "python",
   "nbconvert_exporter": "python",
   "pygments_lexer": "ipython3",
   "version": "3.9.7"
  }
 },
 "nbformat": 4,
 "nbformat_minor": 5
}
