{
 "cells": [
  {
   "cell_type": "code",
   "execution_count": 2,
   "id": "f463ea67-9ab5-4e9c-bb58-1bf763db1b1a",
   "metadata": {},
   "outputs": [
    {
     "data": {
      "text/html": [
       "<div>\n",
       "<style scoped>\n",
       "    .dataframe tbody tr th:only-of-type {\n",
       "        vertical-align: middle;\n",
       "    }\n",
       "\n",
       "    .dataframe tbody tr th {\n",
       "        vertical-align: top;\n",
       "    }\n",
       "\n",
       "    .dataframe thead th {\n",
       "        text-align: right;\n",
       "    }\n",
       "</style>\n",
       "<table border=\"1\" class=\"dataframe\">\n",
       "  <thead>\n",
       "    <tr style=\"text-align: right;\">\n",
       "      <th></th>\n",
       "      <th>Col1</th>\n",
       "    </tr>\n",
       "  </thead>\n",
       "  <tbody>\n",
       "    <tr>\n",
       "      <th>0</th>\n",
       "      <td>1</td>\n",
       "    </tr>\n",
       "    <tr>\n",
       "      <th>1</th>\n",
       "      <td>2</td>\n",
       "    </tr>\n",
       "    <tr>\n",
       "      <th>2</th>\n",
       "      <td>3</td>\n",
       "    </tr>\n",
       "    <tr>\n",
       "      <th>3</th>\n",
       "      <td>4</td>\n",
       "    </tr>\n",
       "  </tbody>\n",
       "</table>\n",
       "</div>"
      ],
      "text/plain": [
       "   Col1\n",
       "0     1\n",
       "1     2\n",
       "2     3\n",
       "3     4"
      ]
     },
     "execution_count": 2,
     "metadata": {},
     "output_type": "execute_result"
    }
   ],
   "source": [
    "import pandas as pd\n",
    "import numpy as np\n",
    "pd.DataFrame({\"Col1\": [1,2,3,4]})\n",
    "# DataFrame is a Two-Dimentional data structure"
   ]
  },
  {
   "cell_type": "code",
   "execution_count": 4,
   "id": "cee3863b-36da-481d-a020-ef99696590d8",
   "metadata": {},
   "outputs": [
    {
     "data": {
      "text/plain": [
       "0    1.0\n",
       "1    2.0\n",
       "2    3.0\n",
       "3    NaN\n",
       "4    6.0\n",
       "5    8.0\n",
       "dtype: float64"
      ]
     },
     "execution_count": 4,
     "metadata": {},
     "output_type": "execute_result"
    }
   ],
   "source": [
    "pd.Series([1,2,3,np.nan,6,8])\n",
    "# Series is a One-Dimentional labelled array"
   ]
  },
  {
   "cell_type": "code",
   "execution_count": 5,
   "id": "51058bca-01b2-42fe-8c1c-0f6539d787a5",
   "metadata": {},
   "outputs": [
    {
     "data": {
      "text/plain": [
       "DatetimeIndex(['2024-04-01', '2024-04-02', '2024-04-03', '2024-04-04',\n",
       "               '2024-04-05', '2024-04-06', '2024-04-07', '2024-04-08',\n",
       "               '2024-04-09', '2024-04-10'],\n",
       "              dtype='datetime64[ns]', freq='D')"
      ]
     },
     "execution_count": 5,
     "metadata": {},
     "output_type": "execute_result"
    }
   ],
   "source": [
    "dates = pd.date_range(\"20240401\", periods=10)\n",
    "dates"
   ]
  },
  {
   "cell_type": "code",
   "execution_count": 17,
   "id": "01e236fb-1a0b-4cdc-9fa1-b11aaf55e5b7",
   "metadata": {},
   "outputs": [
    {
     "data": {
      "text/html": [
       "<div>\n",
       "<style scoped>\n",
       "    .dataframe tbody tr th:only-of-type {\n",
       "        vertical-align: middle;\n",
       "    }\n",
       "\n",
       "    .dataframe tbody tr th {\n",
       "        vertical-align: top;\n",
       "    }\n",
       "\n",
       "    .dataframe thead th {\n",
       "        text-align: right;\n",
       "    }\n",
       "</style>\n",
       "<table border=\"1\" class=\"dataframe\">\n",
       "  <thead>\n",
       "    <tr style=\"text-align: right;\">\n",
       "      <th></th>\n",
       "      <th>Col1</th>\n",
       "      <th>Col2</th>\n",
       "      <th>Col3</th>\n",
       "    </tr>\n",
       "  </thead>\n",
       "  <tbody>\n",
       "    <tr>\n",
       "      <th>0</th>\n",
       "      <td>-0.596076</td>\n",
       "      <td>-0.971124</td>\n",
       "      <td>-0.484887</td>\n",
       "    </tr>\n",
       "    <tr>\n",
       "      <th>1</th>\n",
       "      <td>-0.088873</td>\n",
       "      <td>0.611731</td>\n",
       "      <td>0.521300</td>\n",
       "    </tr>\n",
       "    <tr>\n",
       "      <th>2</th>\n",
       "      <td>-0.247236</td>\n",
       "      <td>0.010979</td>\n",
       "      <td>-1.435192</td>\n",
       "    </tr>\n",
       "    <tr>\n",
       "      <th>3</th>\n",
       "      <td>-1.046075</td>\n",
       "      <td>-1.303277</td>\n",
       "      <td>0.062110</td>\n",
       "    </tr>\n",
       "    <tr>\n",
       "      <th>4</th>\n",
       "      <td>-1.066490</td>\n",
       "      <td>1.318000</td>\n",
       "      <td>1.023671</td>\n",
       "    </tr>\n",
       "    <tr>\n",
       "      <th>5</th>\n",
       "      <td>-0.300590</td>\n",
       "      <td>0.693984</td>\n",
       "      <td>0.552264</td>\n",
       "    </tr>\n",
       "    <tr>\n",
       "      <th>6</th>\n",
       "      <td>1.030176</td>\n",
       "      <td>0.211880</td>\n",
       "      <td>0.523895</td>\n",
       "    </tr>\n",
       "    <tr>\n",
       "      <th>7</th>\n",
       "      <td>0.045359</td>\n",
       "      <td>-0.882173</td>\n",
       "      <td>-0.169592</td>\n",
       "    </tr>\n",
       "    <tr>\n",
       "      <th>8</th>\n",
       "      <td>2.397975</td>\n",
       "      <td>0.485363</td>\n",
       "      <td>0.214933</td>\n",
       "    </tr>\n",
       "    <tr>\n",
       "      <th>9</th>\n",
       "      <td>-1.031787</td>\n",
       "      <td>0.494190</td>\n",
       "      <td>-0.758866</td>\n",
       "    </tr>\n",
       "  </tbody>\n",
       "</table>\n",
       "</div>"
      ],
      "text/plain": [
       "       Col1      Col2      Col3\n",
       "0 -0.596076 -0.971124 -0.484887\n",
       "1 -0.088873  0.611731  0.521300\n",
       "2 -0.247236  0.010979 -1.435192\n",
       "3 -1.046075 -1.303277  0.062110\n",
       "4 -1.066490  1.318000  1.023671\n",
       "5 -0.300590  0.693984  0.552264\n",
       "6  1.030176  0.211880  0.523895\n",
       "7  0.045359 -0.882173 -0.169592\n",
       "8  2.397975  0.485363  0.214933\n",
       "9 -1.031787  0.494190 -0.758866"
      ]
     },
     "execution_count": 17,
     "metadata": {},
     "output_type": "execute_result"
    }
   ],
   "source": [
    "df = pd.DataFrame(np.random.randn(10,3),  columns=[\"Col1\", \"Col2\", \"Col3\"])\n",
    "df"
   ]
  },
  {
   "cell_type": "code",
   "execution_count": 20,
   "id": "96e65a51-0d1c-42fe-90b3-51f305415ed0",
   "metadata": {},
   "outputs": [
    {
     "data": {
      "text/html": [
       "<div>\n",
       "<style scoped>\n",
       "    .dataframe tbody tr th:only-of-type {\n",
       "        vertical-align: middle;\n",
       "    }\n",
       "\n",
       "    .dataframe tbody tr th {\n",
       "        vertical-align: top;\n",
       "    }\n",
       "\n",
       "    .dataframe thead th {\n",
       "        text-align: right;\n",
       "    }\n",
       "</style>\n",
       "<table border=\"1\" class=\"dataframe\">\n",
       "  <thead>\n",
       "    <tr style=\"text-align: right;\">\n",
       "      <th></th>\n",
       "      <th>Col1</th>\n",
       "      <th>Col2</th>\n",
       "      <th>Col3</th>\n",
       "    </tr>\n",
       "  </thead>\n",
       "  <tbody>\n",
       "    <tr>\n",
       "      <th>0</th>\n",
       "      <td>-0.596076</td>\n",
       "      <td>-0.971124</td>\n",
       "      <td>-0.484887</td>\n",
       "    </tr>\n",
       "    <tr>\n",
       "      <th>1</th>\n",
       "      <td>-0.088873</td>\n",
       "      <td>0.611731</td>\n",
       "      <td>0.521300</td>\n",
       "    </tr>\n",
       "    <tr>\n",
       "      <th>2</th>\n",
       "      <td>-0.247236</td>\n",
       "      <td>0.010979</td>\n",
       "      <td>-1.435192</td>\n",
       "    </tr>\n",
       "    <tr>\n",
       "      <th>3</th>\n",
       "      <td>-1.046075</td>\n",
       "      <td>-1.303277</td>\n",
       "      <td>0.062110</td>\n",
       "    </tr>\n",
       "    <tr>\n",
       "      <th>4</th>\n",
       "      <td>-1.066490</td>\n",
       "      <td>1.318000</td>\n",
       "      <td>1.023671</td>\n",
       "    </tr>\n",
       "  </tbody>\n",
       "</table>\n",
       "</div>"
      ],
      "text/plain": [
       "       Col1      Col2      Col3\n",
       "0 -0.596076 -0.971124 -0.484887\n",
       "1 -0.088873  0.611731  0.521300\n",
       "2 -0.247236  0.010979 -1.435192\n",
       "3 -1.046075 -1.303277  0.062110\n",
       "4 -1.066490  1.318000  1.023671"
      ]
     },
     "execution_count": 20,
     "metadata": {},
     "output_type": "execute_result"
    }
   ],
   "source": [
    "df.head(5)"
   ]
  },
  {
   "cell_type": "code",
   "execution_count": 21,
   "id": "206e7724-66f7-4112-abf3-8293dbedccf2",
   "metadata": {},
   "outputs": [
    {
     "data": {
      "text/html": [
       "<div>\n",
       "<style scoped>\n",
       "    .dataframe tbody tr th:only-of-type {\n",
       "        vertical-align: middle;\n",
       "    }\n",
       "\n",
       "    .dataframe tbody tr th {\n",
       "        vertical-align: top;\n",
       "    }\n",
       "\n",
       "    .dataframe thead th {\n",
       "        text-align: right;\n",
       "    }\n",
       "</style>\n",
       "<table border=\"1\" class=\"dataframe\">\n",
       "  <thead>\n",
       "    <tr style=\"text-align: right;\">\n",
       "      <th></th>\n",
       "      <th>Col1</th>\n",
       "      <th>Col2</th>\n",
       "      <th>Col3</th>\n",
       "    </tr>\n",
       "  </thead>\n",
       "  <tbody>\n",
       "    <tr>\n",
       "      <th>5</th>\n",
       "      <td>-0.300590</td>\n",
       "      <td>0.693984</td>\n",
       "      <td>0.552264</td>\n",
       "    </tr>\n",
       "    <tr>\n",
       "      <th>6</th>\n",
       "      <td>1.030176</td>\n",
       "      <td>0.211880</td>\n",
       "      <td>0.523895</td>\n",
       "    </tr>\n",
       "    <tr>\n",
       "      <th>7</th>\n",
       "      <td>0.045359</td>\n",
       "      <td>-0.882173</td>\n",
       "      <td>-0.169592</td>\n",
       "    </tr>\n",
       "    <tr>\n",
       "      <th>8</th>\n",
       "      <td>2.397975</td>\n",
       "      <td>0.485363</td>\n",
       "      <td>0.214933</td>\n",
       "    </tr>\n",
       "    <tr>\n",
       "      <th>9</th>\n",
       "      <td>-1.031787</td>\n",
       "      <td>0.494190</td>\n",
       "      <td>-0.758866</td>\n",
       "    </tr>\n",
       "  </tbody>\n",
       "</table>\n",
       "</div>"
      ],
      "text/plain": [
       "       Col1      Col2      Col3\n",
       "5 -0.300590  0.693984  0.552264\n",
       "6  1.030176  0.211880  0.523895\n",
       "7  0.045359 -0.882173 -0.169592\n",
       "8  2.397975  0.485363  0.214933\n",
       "9 -1.031787  0.494190 -0.758866"
      ]
     },
     "execution_count": 21,
     "metadata": {},
     "output_type": "execute_result"
    }
   ],
   "source": [
    "df.tail(5)"
   ]
  },
  {
   "cell_type": "code",
   "execution_count": 22,
   "id": "318f1fa4-698f-4b13-9aa4-95a87c43db7f",
   "metadata": {},
   "outputs": [
    {
     "data": {
      "text/plain": [
       "RangeIndex(start=0, stop=10, step=1)"
      ]
     },
     "execution_count": 22,
     "metadata": {},
     "output_type": "execute_result"
    }
   ],
   "source": [
    "df.index"
   ]
  },
  {
   "cell_type": "code",
   "execution_count": 23,
   "id": "2742a50c-b599-46e6-a5d6-a133a8788c4c",
   "metadata": {},
   "outputs": [
    {
     "data": {
      "text/plain": [
       "Index(['Col1', 'Col2', 'Col3'], dtype='object')"
      ]
     },
     "execution_count": 23,
     "metadata": {},
     "output_type": "execute_result"
    }
   ],
   "source": [
    "df.columns"
   ]
  },
  {
   "cell_type": "code",
   "execution_count": 24,
   "id": "d68e2da0-0fe1-4088-abda-57d85b19b0d1",
   "metadata": {},
   "outputs": [
    {
     "data": {
      "text/plain": [
       "array([[-0.59607585, -0.97112395, -0.48488726],\n",
       "       [-0.088873  ,  0.61173057,  0.52130031],\n",
       "       [-0.24723623,  0.01097919, -1.43519236],\n",
       "       [-1.04607463, -1.3032773 ,  0.06211014],\n",
       "       [-1.06649017,  1.31800026,  1.02367143],\n",
       "       [-0.30059007,  0.69398383,  0.55226405],\n",
       "       [ 1.03017581,  0.21188049,  0.52389497],\n",
       "       [ 0.04535878, -0.8821732 , -0.16959206],\n",
       "       [ 2.39797458,  0.48536308,  0.2149328 ],\n",
       "       [-1.0317866 ,  0.49418975, -0.75886636]])"
      ]
     },
     "execution_count": 24,
     "metadata": {},
     "output_type": "execute_result"
    }
   ],
   "source": [
    "df.to_numpy()"
   ]
  },
  {
   "cell_type": "code",
   "execution_count": 25,
   "id": "cef0217a-8cf1-411b-aab7-57dbdc14de85",
   "metadata": {},
   "outputs": [
    {
     "data": {
      "text/plain": [
       "Col1    float64\n",
       "Col2    float64\n",
       "Col3    float64\n",
       "dtype: object"
      ]
     },
     "execution_count": 25,
     "metadata": {},
     "output_type": "execute_result"
    }
   ],
   "source": [
    "df.dtypes"
   ]
  },
  {
   "cell_type": "code",
   "execution_count": 26,
   "id": "83cfe057-4cb8-479a-8c41-2bcf3c371429",
   "metadata": {},
   "outputs": [
    {
     "data": {
      "text/html": [
       "<div>\n",
       "<style scoped>\n",
       "    .dataframe tbody tr th:only-of-type {\n",
       "        vertical-align: middle;\n",
       "    }\n",
       "\n",
       "    .dataframe tbody tr th {\n",
       "        vertical-align: top;\n",
       "    }\n",
       "\n",
       "    .dataframe thead th {\n",
       "        text-align: right;\n",
       "    }\n",
       "</style>\n",
       "<table border=\"1\" class=\"dataframe\">\n",
       "  <thead>\n",
       "    <tr style=\"text-align: right;\">\n",
       "      <th></th>\n",
       "      <th>Col1</th>\n",
       "      <th>Col2</th>\n",
       "      <th>Col3</th>\n",
       "    </tr>\n",
       "  </thead>\n",
       "  <tbody>\n",
       "    <tr>\n",
       "      <th>count</th>\n",
       "      <td>10.000000</td>\n",
       "      <td>10.000000</td>\n",
       "      <td>10.000000</td>\n",
       "    </tr>\n",
       "    <tr>\n",
       "      <th>mean</th>\n",
       "      <td>-0.090362</td>\n",
       "      <td>0.066955</td>\n",
       "      <td>0.004964</td>\n",
       "    </tr>\n",
       "    <tr>\n",
       "      <th>std</th>\n",
       "      <td>1.082327</td>\n",
       "      <td>0.849364</td>\n",
       "      <td>0.733974</td>\n",
       "    </tr>\n",
       "    <tr>\n",
       "      <th>min</th>\n",
       "      <td>-1.066490</td>\n",
       "      <td>-1.303277</td>\n",
       "      <td>-1.435192</td>\n",
       "    </tr>\n",
       "    <tr>\n",
       "      <th>25%</th>\n",
       "      <td>-0.922859</td>\n",
       "      <td>-0.658885</td>\n",
       "      <td>-0.406063</td>\n",
       "    </tr>\n",
       "    <tr>\n",
       "      <th>50%</th>\n",
       "      <td>-0.273913</td>\n",
       "      <td>0.348622</td>\n",
       "      <td>0.138521</td>\n",
       "    </tr>\n",
       "    <tr>\n",
       "      <th>75%</th>\n",
       "      <td>0.011801</td>\n",
       "      <td>0.582345</td>\n",
       "      <td>0.523246</td>\n",
       "    </tr>\n",
       "    <tr>\n",
       "      <th>max</th>\n",
       "      <td>2.397975</td>\n",
       "      <td>1.318000</td>\n",
       "      <td>1.023671</td>\n",
       "    </tr>\n",
       "  </tbody>\n",
       "</table>\n",
       "</div>"
      ],
      "text/plain": [
       "            Col1       Col2       Col3\n",
       "count  10.000000  10.000000  10.000000\n",
       "mean   -0.090362   0.066955   0.004964\n",
       "std     1.082327   0.849364   0.733974\n",
       "min    -1.066490  -1.303277  -1.435192\n",
       "25%    -0.922859  -0.658885  -0.406063\n",
       "50%    -0.273913   0.348622   0.138521\n",
       "75%     0.011801   0.582345   0.523246\n",
       "max     2.397975   1.318000   1.023671"
      ]
     },
     "execution_count": 26,
     "metadata": {},
     "output_type": "execute_result"
    }
   ],
   "source": [
    "df.describe()"
   ]
  },
  {
   "cell_type": "code",
   "execution_count": 30,
   "id": "434ac11f-1124-4632-a939-9aa12c874648",
   "metadata": {},
   "outputs": [
    {
     "data": {
      "text/html": [
       "<div>\n",
       "<style scoped>\n",
       "    .dataframe tbody tr th:only-of-type {\n",
       "        vertical-align: middle;\n",
       "    }\n",
       "\n",
       "    .dataframe tbody tr th {\n",
       "        vertical-align: top;\n",
       "    }\n",
       "\n",
       "    .dataframe thead th {\n",
       "        text-align: right;\n",
       "    }\n",
       "</style>\n",
       "<table border=\"1\" class=\"dataframe\">\n",
       "  <thead>\n",
       "    <tr style=\"text-align: right;\">\n",
       "      <th></th>\n",
       "      <th>0</th>\n",
       "      <th>1</th>\n",
       "      <th>2</th>\n",
       "      <th>3</th>\n",
       "      <th>4</th>\n",
       "      <th>5</th>\n",
       "      <th>6</th>\n",
       "      <th>7</th>\n",
       "      <th>8</th>\n",
       "      <th>9</th>\n",
       "    </tr>\n",
       "  </thead>\n",
       "  <tbody>\n",
       "    <tr>\n",
       "      <th>Col1</th>\n",
       "      <td>-0.596076</td>\n",
       "      <td>-0.088873</td>\n",
       "      <td>-0.247236</td>\n",
       "      <td>-1.046075</td>\n",
       "      <td>-1.066490</td>\n",
       "      <td>-0.300590</td>\n",
       "      <td>1.030176</td>\n",
       "      <td>0.045359</td>\n",
       "      <td>2.397975</td>\n",
       "      <td>-1.031787</td>\n",
       "    </tr>\n",
       "    <tr>\n",
       "      <th>Col2</th>\n",
       "      <td>-0.971124</td>\n",
       "      <td>0.611731</td>\n",
       "      <td>0.010979</td>\n",
       "      <td>-1.303277</td>\n",
       "      <td>1.318000</td>\n",
       "      <td>0.693984</td>\n",
       "      <td>0.211880</td>\n",
       "      <td>-0.882173</td>\n",
       "      <td>0.485363</td>\n",
       "      <td>0.494190</td>\n",
       "    </tr>\n",
       "    <tr>\n",
       "      <th>Col3</th>\n",
       "      <td>-0.484887</td>\n",
       "      <td>0.521300</td>\n",
       "      <td>-1.435192</td>\n",
       "      <td>0.062110</td>\n",
       "      <td>1.023671</td>\n",
       "      <td>0.552264</td>\n",
       "      <td>0.523895</td>\n",
       "      <td>-0.169592</td>\n",
       "      <td>0.214933</td>\n",
       "      <td>-0.758866</td>\n",
       "    </tr>\n",
       "  </tbody>\n",
       "</table>\n",
       "</div>"
      ],
      "text/plain": [
       "             0         1         2         3         4         5         6  \\\n",
       "Col1 -0.596076 -0.088873 -0.247236 -1.046075 -1.066490 -0.300590  1.030176   \n",
       "Col2 -0.971124  0.611731  0.010979 -1.303277  1.318000  0.693984  0.211880   \n",
       "Col3 -0.484887  0.521300 -1.435192  0.062110  1.023671  0.552264  0.523895   \n",
       "\n",
       "             7         8         9  \n",
       "Col1  0.045359  2.397975 -1.031787  \n",
       "Col2 -0.882173  0.485363  0.494190  \n",
       "Col3 -0.169592  0.214933 -0.758866  "
      ]
     },
     "execution_count": 30,
     "metadata": {},
     "output_type": "execute_result"
    }
   ],
   "source": [
    "df.T\n",
    "# Transpose"
   ]
  },
  {
   "cell_type": "code",
   "execution_count": 33,
   "id": "63097845-d0fd-4bfe-8c67-a447e63df448",
   "metadata": {},
   "outputs": [
    {
     "data": {
      "text/html": [
       "<div>\n",
       "<style scoped>\n",
       "    .dataframe tbody tr th:only-of-type {\n",
       "        vertical-align: middle;\n",
       "    }\n",
       "\n",
       "    .dataframe tbody tr th {\n",
       "        vertical-align: top;\n",
       "    }\n",
       "\n",
       "    .dataframe thead th {\n",
       "        text-align: right;\n",
       "    }\n",
       "</style>\n",
       "<table border=\"1\" class=\"dataframe\">\n",
       "  <thead>\n",
       "    <tr style=\"text-align: right;\">\n",
       "      <th></th>\n",
       "      <th>Col1</th>\n",
       "      <th>Col2</th>\n",
       "      <th>Col3</th>\n",
       "    </tr>\n",
       "  </thead>\n",
       "  <tbody>\n",
       "    <tr>\n",
       "      <th>3</th>\n",
       "      <td>-1.046075</td>\n",
       "      <td>-1.303277</td>\n",
       "      <td>0.062110</td>\n",
       "    </tr>\n",
       "    <tr>\n",
       "      <th>0</th>\n",
       "      <td>-0.596076</td>\n",
       "      <td>-0.971124</td>\n",
       "      <td>-0.484887</td>\n",
       "    </tr>\n",
       "    <tr>\n",
       "      <th>7</th>\n",
       "      <td>0.045359</td>\n",
       "      <td>-0.882173</td>\n",
       "      <td>-0.169592</td>\n",
       "    </tr>\n",
       "    <tr>\n",
       "      <th>2</th>\n",
       "      <td>-0.247236</td>\n",
       "      <td>0.010979</td>\n",
       "      <td>-1.435192</td>\n",
       "    </tr>\n",
       "    <tr>\n",
       "      <th>6</th>\n",
       "      <td>1.030176</td>\n",
       "      <td>0.211880</td>\n",
       "      <td>0.523895</td>\n",
       "    </tr>\n",
       "    <tr>\n",
       "      <th>8</th>\n",
       "      <td>2.397975</td>\n",
       "      <td>0.485363</td>\n",
       "      <td>0.214933</td>\n",
       "    </tr>\n",
       "    <tr>\n",
       "      <th>9</th>\n",
       "      <td>-1.031787</td>\n",
       "      <td>0.494190</td>\n",
       "      <td>-0.758866</td>\n",
       "    </tr>\n",
       "    <tr>\n",
       "      <th>1</th>\n",
       "      <td>-0.088873</td>\n",
       "      <td>0.611731</td>\n",
       "      <td>0.521300</td>\n",
       "    </tr>\n",
       "    <tr>\n",
       "      <th>5</th>\n",
       "      <td>-0.300590</td>\n",
       "      <td>0.693984</td>\n",
       "      <td>0.552264</td>\n",
       "    </tr>\n",
       "    <tr>\n",
       "      <th>4</th>\n",
       "      <td>-1.066490</td>\n",
       "      <td>1.318000</td>\n",
       "      <td>1.023671</td>\n",
       "    </tr>\n",
       "  </tbody>\n",
       "</table>\n",
       "</div>"
      ],
      "text/plain": [
       "       Col1      Col2      Col3\n",
       "3 -1.046075 -1.303277  0.062110\n",
       "0 -0.596076 -0.971124 -0.484887\n",
       "7  0.045359 -0.882173 -0.169592\n",
       "2 -0.247236  0.010979 -1.435192\n",
       "6  1.030176  0.211880  0.523895\n",
       "8  2.397975  0.485363  0.214933\n",
       "9 -1.031787  0.494190 -0.758866\n",
       "1 -0.088873  0.611731  0.521300\n",
       "5 -0.300590  0.693984  0.552264\n",
       "4 -1.066490  1.318000  1.023671"
      ]
     },
     "execution_count": 33,
     "metadata": {},
     "output_type": "execute_result"
    }
   ],
   "source": [
    "df.sort_values(by=\"Col2\")"
   ]
  },
  {
   "cell_type": "code",
   "execution_count": 34,
   "id": "c5fb7ad8-52a4-44af-abcd-f31704b6500d",
   "metadata": {},
   "outputs": [
    {
     "data": {
      "text/plain": [
       "0   -0.596076\n",
       "1   -0.088873\n",
       "2   -0.247236\n",
       "3   -1.046075\n",
       "4   -1.066490\n",
       "5   -0.300590\n",
       "6    1.030176\n",
       "7    0.045359\n",
       "8    2.397975\n",
       "9   -1.031787\n",
       "Name: Col1, dtype: float64"
      ]
     },
     "execution_count": 34,
     "metadata": {},
     "output_type": "execute_result"
    }
   ],
   "source": [
    "df[\"Col1\"]"
   ]
  },
  {
   "cell_type": "code",
   "execution_count": 35,
   "id": "f0dbbcef-295a-4290-96f6-83ec654c11ad",
   "metadata": {},
   "outputs": [
    {
     "data": {
      "text/html": [
       "<div>\n",
       "<style scoped>\n",
       "    .dataframe tbody tr th:only-of-type {\n",
       "        vertical-align: middle;\n",
       "    }\n",
       "\n",
       "    .dataframe tbody tr th {\n",
       "        vertical-align: top;\n",
       "    }\n",
       "\n",
       "    .dataframe thead th {\n",
       "        text-align: right;\n",
       "    }\n",
       "</style>\n",
       "<table border=\"1\" class=\"dataframe\">\n",
       "  <thead>\n",
       "    <tr style=\"text-align: right;\">\n",
       "      <th></th>\n",
       "      <th>Col1</th>\n",
       "      <th>Col2</th>\n",
       "      <th>Col3</th>\n",
       "      <th>Col4</th>\n",
       "    </tr>\n",
       "  </thead>\n",
       "  <tbody>\n",
       "    <tr>\n",
       "      <th>0</th>\n",
       "      <td>-0.596076</td>\n",
       "      <td>-0.971124</td>\n",
       "      <td>-0.484887</td>\n",
       "      <td>-1.567200</td>\n",
       "    </tr>\n",
       "    <tr>\n",
       "      <th>1</th>\n",
       "      <td>-0.088873</td>\n",
       "      <td>0.611731</td>\n",
       "      <td>0.521300</td>\n",
       "      <td>0.522858</td>\n",
       "    </tr>\n",
       "    <tr>\n",
       "      <th>2</th>\n",
       "      <td>-0.247236</td>\n",
       "      <td>0.010979</td>\n",
       "      <td>-1.435192</td>\n",
       "      <td>-0.236257</td>\n",
       "    </tr>\n",
       "    <tr>\n",
       "      <th>3</th>\n",
       "      <td>-1.046075</td>\n",
       "      <td>-1.303277</td>\n",
       "      <td>0.062110</td>\n",
       "      <td>-2.349352</td>\n",
       "    </tr>\n",
       "    <tr>\n",
       "      <th>4</th>\n",
       "      <td>-1.066490</td>\n",
       "      <td>1.318000</td>\n",
       "      <td>1.023671</td>\n",
       "      <td>0.251510</td>\n",
       "    </tr>\n",
       "    <tr>\n",
       "      <th>5</th>\n",
       "      <td>-0.300590</td>\n",
       "      <td>0.693984</td>\n",
       "      <td>0.552264</td>\n",
       "      <td>0.393394</td>\n",
       "    </tr>\n",
       "    <tr>\n",
       "      <th>6</th>\n",
       "      <td>1.030176</td>\n",
       "      <td>0.211880</td>\n",
       "      <td>0.523895</td>\n",
       "      <td>1.242056</td>\n",
       "    </tr>\n",
       "    <tr>\n",
       "      <th>7</th>\n",
       "      <td>0.045359</td>\n",
       "      <td>-0.882173</td>\n",
       "      <td>-0.169592</td>\n",
       "      <td>-0.836814</td>\n",
       "    </tr>\n",
       "    <tr>\n",
       "      <th>8</th>\n",
       "      <td>2.397975</td>\n",
       "      <td>0.485363</td>\n",
       "      <td>0.214933</td>\n",
       "      <td>2.883338</td>\n",
       "    </tr>\n",
       "    <tr>\n",
       "      <th>9</th>\n",
       "      <td>-1.031787</td>\n",
       "      <td>0.494190</td>\n",
       "      <td>-0.758866</td>\n",
       "      <td>-0.537597</td>\n",
       "    </tr>\n",
       "  </tbody>\n",
       "</table>\n",
       "</div>"
      ],
      "text/plain": [
       "       Col1      Col2      Col3      Col4\n",
       "0 -0.596076 -0.971124 -0.484887 -1.567200\n",
       "1 -0.088873  0.611731  0.521300  0.522858\n",
       "2 -0.247236  0.010979 -1.435192 -0.236257\n",
       "3 -1.046075 -1.303277  0.062110 -2.349352\n",
       "4 -1.066490  1.318000  1.023671  0.251510\n",
       "5 -0.300590  0.693984  0.552264  0.393394\n",
       "6  1.030176  0.211880  0.523895  1.242056\n",
       "7  0.045359 -0.882173 -0.169592 -0.836814\n",
       "8  2.397975  0.485363  0.214933  2.883338\n",
       "9 -1.031787  0.494190 -0.758866 -0.537597"
      ]
     },
     "execution_count": 35,
     "metadata": {},
     "output_type": "execute_result"
    }
   ],
   "source": [
    "df[\"Col4\"] = df[\"Col1\"] + df[\"Col2\"]\n",
    "df"
   ]
  },
  {
   "cell_type": "code",
   "execution_count": 51,
   "id": "d18115f4-095d-493c-a581-2a84fc143add",
   "metadata": {},
   "outputs": [
    {
     "data": {
      "text/html": [
       "<div>\n",
       "<style scoped>\n",
       "    .dataframe tbody tr th:only-of-type {\n",
       "        vertical-align: middle;\n",
       "    }\n",
       "\n",
       "    .dataframe tbody tr th {\n",
       "        vertical-align: top;\n",
       "    }\n",
       "\n",
       "    .dataframe thead th {\n",
       "        text-align: right;\n",
       "    }\n",
       "</style>\n",
       "<table border=\"1\" class=\"dataframe\">\n",
       "  <thead>\n",
       "    <tr style=\"text-align: right;\">\n",
       "      <th></th>\n",
       "      <th>Col1</th>\n",
       "      <th>Col2</th>\n",
       "      <th>Col3</th>\n",
       "      <th>Col4</th>\n",
       "    </tr>\n",
       "  </thead>\n",
       "  <tbody>\n",
       "    <tr>\n",
       "      <th>0</th>\n",
       "      <td>-0.596076</td>\n",
       "      <td>-0.971124</td>\n",
       "      <td>-0.484887</td>\n",
       "      <td>-1.567200</td>\n",
       "    </tr>\n",
       "    <tr>\n",
       "      <th>1</th>\n",
       "      <td>-0.088873</td>\n",
       "      <td>0.611731</td>\n",
       "      <td>0.521300</td>\n",
       "      <td>0.522858</td>\n",
       "    </tr>\n",
       "    <tr>\n",
       "      <th>2</th>\n",
       "      <td>-0.247236</td>\n",
       "      <td>0.010979</td>\n",
       "      <td>-1.435192</td>\n",
       "      <td>-0.236257</td>\n",
       "    </tr>\n",
       "    <tr>\n",
       "      <th>3</th>\n",
       "      <td>-1.046075</td>\n",
       "      <td>-1.303277</td>\n",
       "      <td>0.062110</td>\n",
       "      <td>-2.349352</td>\n",
       "    </tr>\n",
       "    <tr>\n",
       "      <th>4</th>\n",
       "      <td>-1.066490</td>\n",
       "      <td>1.318000</td>\n",
       "      <td>1.023671</td>\n",
       "      <td>0.251510</td>\n",
       "    </tr>\n",
       "  </tbody>\n",
       "</table>\n",
       "</div>"
      ],
      "text/plain": [
       "       Col1      Col2      Col3      Col4\n",
       "0 -0.596076 -0.971124 -0.484887 -1.567200\n",
       "1 -0.088873  0.611731  0.521300  0.522858\n",
       "2 -0.247236  0.010979 -1.435192 -0.236257\n",
       "3 -1.046075 -1.303277  0.062110 -2.349352\n",
       "4 -1.066490  1.318000  1.023671  0.251510"
      ]
     },
     "execution_count": 51,
     "metadata": {},
     "output_type": "execute_result"
    }
   ],
   "source": [
    "df[0:5]\n",
    "# Start from 0th row and end with 5th Row. Here 5th Row has index 4"
   ]
  },
  {
   "cell_type": "code",
   "execution_count": 49,
   "id": "3bb7b043-9d46-4be7-a573-924d16884e46",
   "metadata": {},
   "outputs": [
    {
     "data": {
      "text/plain": [
       "0   -0.484887\n",
       "1    0.521300\n",
       "2   -1.435192\n",
       "3    0.062110\n",
       "4    1.023671\n",
       "Name: Col3, dtype: float64"
      ]
     },
     "execution_count": 49,
     "metadata": {},
     "output_type": "execute_result"
    }
   ],
   "source": [
    "df.iloc[0:5, 2]\n",
    "# Select Rows along with columns"
   ]
  },
  {
   "cell_type": "code",
   "execution_count": 53,
   "id": "33bc3e9f-7e0a-4cec-b979-d197d765c42c",
   "metadata": {},
   "outputs": [
    {
     "data": {
      "text/html": [
       "<div>\n",
       "<style scoped>\n",
       "    .dataframe tbody tr th:only-of-type {\n",
       "        vertical-align: middle;\n",
       "    }\n",
       "\n",
       "    .dataframe tbody tr th {\n",
       "        vertical-align: top;\n",
       "    }\n",
       "\n",
       "    .dataframe thead th {\n",
       "        text-align: right;\n",
       "    }\n",
       "</style>\n",
       "<table border=\"1\" class=\"dataframe\">\n",
       "  <thead>\n",
       "    <tr style=\"text-align: right;\">\n",
       "      <th></th>\n",
       "      <th>Col1</th>\n",
       "      <th>Col2</th>\n",
       "      <th>Col3</th>\n",
       "      <th>Col4</th>\n",
       "    </tr>\n",
       "  </thead>\n",
       "  <tbody>\n",
       "    <tr>\n",
       "      <th>6</th>\n",
       "      <td>1.030176</td>\n",
       "      <td>0.211880</td>\n",
       "      <td>0.523895</td>\n",
       "      <td>1.242056</td>\n",
       "    </tr>\n",
       "    <tr>\n",
       "      <th>8</th>\n",
       "      <td>2.397975</td>\n",
       "      <td>0.485363</td>\n",
       "      <td>0.214933</td>\n",
       "      <td>2.883338</td>\n",
       "    </tr>\n",
       "  </tbody>\n",
       "</table>\n",
       "</div>"
      ],
      "text/plain": [
       "       Col1      Col2      Col3      Col4\n",
       "6  1.030176  0.211880  0.523895  1.242056\n",
       "8  2.397975  0.485363  0.214933  2.883338"
      ]
     },
     "execution_count": 53,
     "metadata": {},
     "output_type": "execute_result"
    }
   ],
   "source": [
    "df[df[\"Col1\"] > 1]"
   ]
  },
  {
   "cell_type": "code",
   "execution_count": 56,
   "id": "eb73030a-b10d-4194-8264-3c0a2b79d4e4",
   "metadata": {},
   "outputs": [
    {
     "data": {
      "text/html": [
       "<div>\n",
       "<style scoped>\n",
       "    .dataframe tbody tr th:only-of-type {\n",
       "        vertical-align: middle;\n",
       "    }\n",
       "\n",
       "    .dataframe tbody tr th {\n",
       "        vertical-align: top;\n",
       "    }\n",
       "\n",
       "    .dataframe thead th {\n",
       "        text-align: right;\n",
       "    }\n",
       "</style>\n",
       "<table border=\"1\" class=\"dataframe\">\n",
       "  <thead>\n",
       "    <tr style=\"text-align: right;\">\n",
       "      <th></th>\n",
       "      <th>Col1</th>\n",
       "      <th>Col2</th>\n",
       "      <th>Col3</th>\n",
       "      <th>Col4</th>\n",
       "    </tr>\n",
       "  </thead>\n",
       "  <tbody>\n",
       "    <tr>\n",
       "      <th>0</th>\n",
       "      <td>NaN</td>\n",
       "      <td>NaN</td>\n",
       "      <td>NaN</td>\n",
       "      <td>NaN</td>\n",
       "    </tr>\n",
       "    <tr>\n",
       "      <th>1</th>\n",
       "      <td>NaN</td>\n",
       "      <td>0.611731</td>\n",
       "      <td>0.521300</td>\n",
       "      <td>0.522858</td>\n",
       "    </tr>\n",
       "    <tr>\n",
       "      <th>2</th>\n",
       "      <td>NaN</td>\n",
       "      <td>0.010979</td>\n",
       "      <td>NaN</td>\n",
       "      <td>NaN</td>\n",
       "    </tr>\n",
       "    <tr>\n",
       "      <th>3</th>\n",
       "      <td>NaN</td>\n",
       "      <td>NaN</td>\n",
       "      <td>0.062110</td>\n",
       "      <td>NaN</td>\n",
       "    </tr>\n",
       "    <tr>\n",
       "      <th>4</th>\n",
       "      <td>NaN</td>\n",
       "      <td>1.318000</td>\n",
       "      <td>1.023671</td>\n",
       "      <td>0.251510</td>\n",
       "    </tr>\n",
       "    <tr>\n",
       "      <th>5</th>\n",
       "      <td>NaN</td>\n",
       "      <td>0.693984</td>\n",
       "      <td>0.552264</td>\n",
       "      <td>0.393394</td>\n",
       "    </tr>\n",
       "    <tr>\n",
       "      <th>6</th>\n",
       "      <td>1.030176</td>\n",
       "      <td>0.211880</td>\n",
       "      <td>0.523895</td>\n",
       "      <td>1.242056</td>\n",
       "    </tr>\n",
       "    <tr>\n",
       "      <th>7</th>\n",
       "      <td>0.045359</td>\n",
       "      <td>NaN</td>\n",
       "      <td>NaN</td>\n",
       "      <td>NaN</td>\n",
       "    </tr>\n",
       "    <tr>\n",
       "      <th>8</th>\n",
       "      <td>2.397975</td>\n",
       "      <td>0.485363</td>\n",
       "      <td>0.214933</td>\n",
       "      <td>2.883338</td>\n",
       "    </tr>\n",
       "    <tr>\n",
       "      <th>9</th>\n",
       "      <td>NaN</td>\n",
       "      <td>0.494190</td>\n",
       "      <td>NaN</td>\n",
       "      <td>NaN</td>\n",
       "    </tr>\n",
       "  </tbody>\n",
       "</table>\n",
       "</div>"
      ],
      "text/plain": [
       "       Col1      Col2      Col3      Col4\n",
       "0       NaN       NaN       NaN       NaN\n",
       "1       NaN  0.611731  0.521300  0.522858\n",
       "2       NaN  0.010979       NaN       NaN\n",
       "3       NaN       NaN  0.062110       NaN\n",
       "4       NaN  1.318000  1.023671  0.251510\n",
       "5       NaN  0.693984  0.552264  0.393394\n",
       "6  1.030176  0.211880  0.523895  1.242056\n",
       "7  0.045359       NaN       NaN       NaN\n",
       "8  2.397975  0.485363  0.214933  2.883338\n",
       "9       NaN  0.494190       NaN       NaN"
      ]
     },
     "execution_count": 56,
     "metadata": {},
     "output_type": "execute_result"
    }
   ],
   "source": [
    "df[df > 0]"
   ]
  },
  {
   "cell_type": "code",
   "execution_count": 57,
   "id": "1d1059ee-ce9f-48f8-845b-7441ec98b419",
   "metadata": {},
   "outputs": [],
   "source": [
    "df1 = df"
   ]
  },
  {
   "cell_type": "code",
   "execution_count": 60,
   "id": "b754f1c3-6381-4de8-8c7c-30b2e174e529",
   "metadata": {},
   "outputs": [
    {
     "data": {
      "text/plain": [
       "Col1   -0.090362\n",
       "Col2    0.066955\n",
       "Col3    0.004964\n",
       "Col4   -0.023406\n",
       "dtype: float64"
      ]
     },
     "execution_count": 60,
     "metadata": {},
     "output_type": "execute_result"
    }
   ],
   "source": [
    "df1.mean()"
   ]
  },
  {
   "cell_type": "code",
   "execution_count": 63,
   "id": "c53a337b-21c4-4e60-b3cf-1b77e9a62dcc",
   "metadata": {},
   "outputs": [
    {
     "data": {
      "text/plain": [
       "Col1   -0.903617\n",
       "Col2    0.669553\n",
       "Col3    0.049636\n",
       "Col4   -0.234065\n",
       "dtype: float64"
      ]
     },
     "execution_count": 63,
     "metadata": {},
     "output_type": "execute_result"
    }
   ],
   "source": [
    "df.sum()"
   ]
  },
  {
   "cell_type": "code",
   "execution_count": 64,
   "id": "46317f6f-7568-46ad-88a3-2c2357aa6ad0",
   "metadata": {},
   "outputs": [
    {
     "data": {
      "text/plain": [
       "Col1    10\n",
       "Col2    10\n",
       "Col3    10\n",
       "Col4    10\n",
       "dtype: int64"
      ]
     },
     "execution_count": 64,
     "metadata": {},
     "output_type": "execute_result"
    }
   ],
   "source": [
    "df.count()"
   ]
  },
  {
   "cell_type": "code",
   "execution_count": 65,
   "id": "aceed559-d62d-4cbd-80c7-f233b5398b7e",
   "metadata": {},
   "outputs": [
    {
     "data": {
      "text/html": [
       "<div>\n",
       "<style scoped>\n",
       "    .dataframe tbody tr th:only-of-type {\n",
       "        vertical-align: middle;\n",
       "    }\n",
       "\n",
       "    .dataframe tbody tr th {\n",
       "        vertical-align: top;\n",
       "    }\n",
       "\n",
       "    .dataframe thead th {\n",
       "        text-align: right;\n",
       "    }\n",
       "</style>\n",
       "<table border=\"1\" class=\"dataframe\">\n",
       "  <thead>\n",
       "    <tr style=\"text-align: right;\">\n",
       "      <th></th>\n",
       "      <th>Col1</th>\n",
       "      <th>Col2</th>\n",
       "      <th>Col3</th>\n",
       "    </tr>\n",
       "    <tr>\n",
       "      <th>Col4</th>\n",
       "      <th></th>\n",
       "      <th></th>\n",
       "      <th></th>\n",
       "    </tr>\n",
       "  </thead>\n",
       "  <tbody>\n",
       "    <tr>\n",
       "      <th>-2.349352</th>\n",
       "      <td>-1.046075</td>\n",
       "      <td>-1.303277</td>\n",
       "      <td>0.062110</td>\n",
       "    </tr>\n",
       "    <tr>\n",
       "      <th>-1.567200</th>\n",
       "      <td>-0.596076</td>\n",
       "      <td>-0.971124</td>\n",
       "      <td>-0.484887</td>\n",
       "    </tr>\n",
       "    <tr>\n",
       "      <th>-0.836814</th>\n",
       "      <td>0.045359</td>\n",
       "      <td>-0.882173</td>\n",
       "      <td>-0.169592</td>\n",
       "    </tr>\n",
       "    <tr>\n",
       "      <th>-0.537597</th>\n",
       "      <td>-1.031787</td>\n",
       "      <td>0.494190</td>\n",
       "      <td>-0.758866</td>\n",
       "    </tr>\n",
       "    <tr>\n",
       "      <th>-0.236257</th>\n",
       "      <td>-0.247236</td>\n",
       "      <td>0.010979</td>\n",
       "      <td>-1.435192</td>\n",
       "    </tr>\n",
       "    <tr>\n",
       "      <th>0.251510</th>\n",
       "      <td>-1.066490</td>\n",
       "      <td>1.318000</td>\n",
       "      <td>1.023671</td>\n",
       "    </tr>\n",
       "    <tr>\n",
       "      <th>0.393394</th>\n",
       "      <td>-0.300590</td>\n",
       "      <td>0.693984</td>\n",
       "      <td>0.552264</td>\n",
       "    </tr>\n",
       "    <tr>\n",
       "      <th>0.522858</th>\n",
       "      <td>-0.088873</td>\n",
       "      <td>0.611731</td>\n",
       "      <td>0.521300</td>\n",
       "    </tr>\n",
       "    <tr>\n",
       "      <th>1.242056</th>\n",
       "      <td>1.030176</td>\n",
       "      <td>0.211880</td>\n",
       "      <td>0.523895</td>\n",
       "    </tr>\n",
       "    <tr>\n",
       "      <th>2.883338</th>\n",
       "      <td>2.397975</td>\n",
       "      <td>0.485363</td>\n",
       "      <td>0.214933</td>\n",
       "    </tr>\n",
       "  </tbody>\n",
       "</table>\n",
       "</div>"
      ],
      "text/plain": [
       "               Col1      Col2      Col3\n",
       "Col4                                   \n",
       "-2.349352 -1.046075 -1.303277  0.062110\n",
       "-1.567200 -0.596076 -0.971124 -0.484887\n",
       "-0.836814  0.045359 -0.882173 -0.169592\n",
       "-0.537597 -1.031787  0.494190 -0.758866\n",
       "-0.236257 -0.247236  0.010979 -1.435192\n",
       " 0.251510 -1.066490  1.318000  1.023671\n",
       " 0.393394 -0.300590  0.693984  0.552264\n",
       " 0.522858 -0.088873  0.611731  0.521300\n",
       " 1.242056  1.030176  0.211880  0.523895\n",
       " 2.883338  2.397975  0.485363  0.214933"
      ]
     },
     "execution_count": 65,
     "metadata": {},
     "output_type": "execute_result"
    }
   ],
   "source": [
    "df.groupby(\"Col4\").sum()"
   ]
  },
  {
   "cell_type": "code",
   "execution_count": 72,
   "id": "095c3c5d-d045-448f-96f6-cec05b85eab0",
   "metadata": {},
   "outputs": [
    {
     "data": {
      "text/html": [
       "<div>\n",
       "<style scoped>\n",
       "    .dataframe tbody tr th:only-of-type {\n",
       "        vertical-align: middle;\n",
       "    }\n",
       "\n",
       "    .dataframe tbody tr th {\n",
       "        vertical-align: top;\n",
       "    }\n",
       "\n",
       "    .dataframe thead th {\n",
       "        text-align: right;\n",
       "    }\n",
       "</style>\n",
       "<table border=\"1\" class=\"dataframe\">\n",
       "  <thead>\n",
       "    <tr style=\"text-align: right;\">\n",
       "      <th></th>\n",
       "      <th>A</th>\n",
       "      <th>B</th>\n",
       "      <th>Id</th>\n",
       "    </tr>\n",
       "  </thead>\n",
       "  <tbody>\n",
       "    <tr>\n",
       "      <th>0</th>\n",
       "      <td>1</td>\n",
       "      <td>4</td>\n",
       "      <td>1</td>\n",
       "    </tr>\n",
       "    <tr>\n",
       "      <th>1</th>\n",
       "      <td>2</td>\n",
       "      <td>3</td>\n",
       "      <td>1</td>\n",
       "    </tr>\n",
       "    <tr>\n",
       "      <th>2</th>\n",
       "      <td>3</td>\n",
       "      <td>5</td>\n",
       "      <td>2</td>\n",
       "    </tr>\n",
       "    <tr>\n",
       "      <th>3</th>\n",
       "      <td>4</td>\n",
       "      <td>3</td>\n",
       "      <td>3</td>\n",
       "    </tr>\n",
       "    <tr>\n",
       "      <th>4</th>\n",
       "      <td>5</td>\n",
       "      <td>2</td>\n",
       "      <td>2</td>\n",
       "    </tr>\n",
       "  </tbody>\n",
       "</table>\n",
       "</div>"
      ],
      "text/plain": [
       "   A  B  Id\n",
       "0  1  4   1\n",
       "1  2  3   1\n",
       "2  3  5   2\n",
       "3  4  3   3\n",
       "4  5  2   2"
      ]
     },
     "execution_count": 72,
     "metadata": {},
     "output_type": "execute_result"
    }
   ],
   "source": [
    "df1 = pd.DataFrame({\"A\": [1,2,3,4,5],\n",
    "       \"B\": [4,3,5,3,2],\n",
    "                   \"Id\": [1,1,2,3,2]})\n",
    "df1"
   ]
  },
  {
   "cell_type": "code",
   "execution_count": 73,
   "id": "8cc8cf5a-8ee3-4a9e-a52d-72f260086038",
   "metadata": {},
   "outputs": [
    {
     "data": {
      "text/html": [
       "<div>\n",
       "<style scoped>\n",
       "    .dataframe tbody tr th:only-of-type {\n",
       "        vertical-align: middle;\n",
       "    }\n",
       "\n",
       "    .dataframe tbody tr th {\n",
       "        vertical-align: top;\n",
       "    }\n",
       "\n",
       "    .dataframe thead th {\n",
       "        text-align: right;\n",
       "    }\n",
       "</style>\n",
       "<table border=\"1\" class=\"dataframe\">\n",
       "  <thead>\n",
       "    <tr style=\"text-align: right;\">\n",
       "      <th></th>\n",
       "      <th>A</th>\n",
       "      <th>B</th>\n",
       "    </tr>\n",
       "    <tr>\n",
       "      <th>Id</th>\n",
       "      <th></th>\n",
       "      <th></th>\n",
       "    </tr>\n",
       "  </thead>\n",
       "  <tbody>\n",
       "    <tr>\n",
       "      <th>1</th>\n",
       "      <td>3</td>\n",
       "      <td>7</td>\n",
       "    </tr>\n",
       "    <tr>\n",
       "      <th>2</th>\n",
       "      <td>8</td>\n",
       "      <td>7</td>\n",
       "    </tr>\n",
       "    <tr>\n",
       "      <th>3</th>\n",
       "      <td>4</td>\n",
       "      <td>3</td>\n",
       "    </tr>\n",
       "  </tbody>\n",
       "</table>\n",
       "</div>"
      ],
      "text/plain": [
       "    A  B\n",
       "Id      \n",
       "1   3  7\n",
       "2   8  7\n",
       "3   4  3"
      ]
     },
     "execution_count": 73,
     "metadata": {},
     "output_type": "execute_result"
    }
   ],
   "source": [
    "df1.groupby(\"Id\").sum()"
   ]
  },
  {
   "cell_type": "code",
   "execution_count": null,
   "id": "088418fa-f9f9-4792-960f-296ac82d9032",
   "metadata": {},
   "outputs": [],
   "source": []
  }
 ],
 "metadata": {
  "kernelspec": {
   "display_name": "Python 3 (ipykernel)",
   "language": "python",
   "name": "python3"
  },
  "language_info": {
   "codemirror_mode": {
    "name": "ipython",
    "version": 3
   },
   "file_extension": ".py",
   "mimetype": "text/x-python",
   "name": "python",
   "nbconvert_exporter": "python",
   "pygments_lexer": "ipython3",
   "version": "3.9.7"
  }
 },
 "nbformat": 4,
 "nbformat_minor": 5
}
